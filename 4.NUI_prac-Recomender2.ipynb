{
 "cells": [
  {
   "cell_type": "markdown",
   "metadata": {},
   "source": [
    "# Pràctiques de Nous Usos de la Informàtica"
   ]
  },
  {
   "cell_type": "markdown",
   "metadata": {},
   "source": [
    "**Nom de les persones del grup:** Mr X & Ms. Z"
   ]
  },
  {
   "cell_type": "markdown",
   "metadata": {},
   "source": [
    "# Pràctica 2. Recomanadors"
   ]
  },
  {
   "cell_type": "markdown",
   "metadata": {},
   "source": [
    "# Construcció d'un recomanador."
   ]
  },
  {
   "cell_type": "code",
   "execution_count": 1,
   "metadata": {
    "collapsed": false
   },
   "outputs": [],
   "source": [
    "N=100"
   ]
  },
  {
   "cell_type": "code",
   "execution_count": 33,
   "metadata": {
    "collapsed": false
   },
   "outputs": [],
   "source": [
    "# lectura de dades\n",
    "\n",
    "import pandas as pd\n",
    "import numpy as np\n",
    "\n",
    "unames = ['user_id', 'gender', 'age', 'occupation', 'zip']\n",
    "users = pd.read_table('ml-1m/users.dat', sep='::', header=None, names=unames, engine='python')\n",
    "rnames = ['user_id', 'movie_id', 'rating', 'timestamp']\n",
    "ratings = pd.read_table('ml-1m/ratings.dat', sep='::', header=None, names=rnames, engine='python')\n",
    "mnames = ['movie_id', 'title', 'genres']\n",
    "movies = pd.read_table('ml-1m/movies.dat', sep='::', header=None, names=mnames, engine='python')\n",
    "\n",
    "data = pd.merge(pd.merge(ratings, users), movies)\n",
    "data = data[data.user_id < N]\n",
    "#data = data[data.movie_id < N]"
   ]
  },
  {
   "cell_type": "markdown",
   "metadata": {},
   "source": [
    "**Alerta**: Les implementacions dels exercicis 6, 7 i 8 poden tardar molt en executar-se, considera fer-ho en un subset de les dades originals. En la 1a cel·la:\n",
    "```\n",
    "    data = data[data.user_id < 100]\n",
    "    data = data[data.movie_id < 100]\n",
    "```\n",
    "El codi anterior limitaria les dades a 100 usuaris i 100 películes. Recorda re-executar les cel·les.\n",
    "\n",
    "Com a guia, una implementació que usi N usuaris i películes, per l'exercici 6, ot arribar a trigar:\n",
    "\n",
    "* N=100, 5 segons a 60 segons\n",
    "* N=1000, 15 minuts a 1 hora\n",
    "* N=10000, 20 hores a 60 hores\n",
    "\n",
    "segons la implementació utilitzada"
   ]
  },
  {
   "cell_type": "markdown",
   "metadata": {},
   "source": [
    "El següent codi, donat el conjunt de dades, construeix un conjunt d'entrenament i un conjunt  de test:"
   ]
  },
  {
   "cell_type": "code",
   "execution_count": 34,
   "metadata": {
    "collapsed": false
   },
   "outputs": [
    {
     "name": "stdout",
     "output_type": "stream",
     "text": [
      "(10281, 11)\n",
      "(2619, 11)\n"
     ]
    }
   ],
   "source": [
    "# generem subconjunts de training i test\n",
    "def assign_to_set(df):\n",
    "    sampled_ids = np.random.choice(df.index,\n",
    "                                   size=np.int64(np.ceil(df.index.size * 0.2)),\n",
    "                                   replace=False)\n",
    "    df.ix[sampled_ids, 'for_testing'] = True\n",
    "    return df\n",
    "\n",
    "data['for_testing'] = False\n",
    "grouped = data.groupby('user_id', group_keys=False).apply(assign_to_set)\n",
    "movielens_train = data[grouped.for_testing == False]\n",
    "movielens_test = data[grouped.for_testing == True]\n",
    "print movielens_train.shape\n",
    "print movielens_test.shape"
   ]
  },
  {
   "cell_type": "markdown",
   "metadata": {},
   "source": [
    "La següent funció `evaluate(estimate)`, donat un conjunt de dades d'entrenament i un conjunt de dades de test ens avalua la precisió d'un sistema de recomanació que li passem per paràmetre. Per a cadascun dels elements del conjunt de test haurem de pronosticar el seu valor i comparar-lo amb el valor real que l'usuari li ha asignat. La mesura que utilizarem per avaluar el sistema és la root-mean-square error (rsme)"
   ]
  },
  {
   "cell_type": "code",
   "execution_count": 4,
   "metadata": {
    "collapsed": false
   },
   "outputs": [],
   "source": [
    "# definim una funció per avaluar el resultat de la recomanació.\n",
    "\n",
    "def compute_rmse(y_pred, y_true):\n",
    "    return np.sqrt(np.mean(np.power(y_pred - y_true, 2)))\n",
    "\n",
    "def evaluate(estimate,test=movielens_test):\n",
    "    ids_to_estimate = zip(test['user_id'], test['movie_id'])\n",
    "    estimated = np.array([estimate(u,i) for (u,i) in ids_to_estimate])\n",
    "    real = test.rating.values\n",
    "    nans = np.isnan(estimated)\n",
    "    return compute_rmse(estimated[~nans], real[~nans])"
   ]
  },
  {
   "cell_type": "markdown",
   "metadata": {},
   "source": [
    "### EXERCICI 4\n",
    "\n",
    "+ Construeix dues funcions, `dist_euclid(x,y)` i `coef_pearson(x,y)`, que implementin la distància Euclidiana i el coeficient de correlació de Pearson entre dos vectors usant funcions de pandas. \n",
    "\n",
    "+ Escriu les funcions que calculin la semblança entre dos series d'un DataFrame de Pandas. S'utiltizaran per calcular les similituds entre usuaris o entre items:\n",
    "\n",
    "    + ``def sim_euclid (data_frame, row1, row2)``\n",
    "    Calcula els vectors representatius de cada fila, C1 i C2, amb les puntuacions de les columnes que estan presents en ambdós files. En el cas dels usuaris (files), això implica trobar les películes (columnes) que han puntuat tots dos.<br />Si no hi ha puntuacions en comú, retornar 0. En cas contrari, retornar ``1/(1+dist_euclid(C1, C2))``\n",
    "\n",
    "    + ``def sim_pearson (data_frame, row1, row2)``\n",
    "    Calcular els vectors representatius de cada fila, C1 i C2, amb les puntuacions de les columnes que estan presents en ambdós files.<br />Si no hi ha puntuacions en comú, retornar 0. Retornar ``coef_pearson(C1,C2)``\n",
    "    "
   ]
  },
  {
   "cell_type": "code",
   "execution_count": 46,
   "metadata": {
    "collapsed": false
   },
   "outputs": [],
   "source": [
    "import math\n",
    "import numpy as np\n",
    "import pandas as pd\n",
    "\n",
    "# Returns the euclidean distance of two vectors\n",
    "def dist_euclid(x, y):\n",
    "    return np.linalg.norm(x-y)\n",
    "\n",
    "# Returns the Pearson correlation of two vectors \n",
    "def coef_pearson(x, y):\n",
    "    return np.corrcoef(x, y)[0][1]\n",
    "\n",
    "# Returns a distance-based similarity score for person1 and person2 based on euclidean distance\n",
    "def sim_euclid(data_frame, row1, row2):\n",
    "    ind = data_frame.loc[row1].dropna().index.intersection(data_frame.loc[row2].dropna().index)\n",
    "    if len(ind) == 0:\n",
    "        return 0\n",
    "    x = data_frame.loc[row1][ind]\n",
    "    y = data_frame.loc[row2][ind]\n",
    "    return 1/(1 + dist_euclid(x, y))\n",
    "\n",
    "# Returns a distance-based similarity score for person1 and person2 based on pearson distance\n",
    "def sim_pearson(data_frame, row1, row2):\n",
    "    ind = data_frame.loc[row1].dropna().index.intersection(data_frame.loc[row2].dropna().index)\n",
    "    if len(ind) == 0:\n",
    "        return 0\n",
    "    x = data_frame.loc[row1, ind]\n",
    "    y = data_frame.loc[row2, ind]\n",
    "    return coef_pearson(x, y)"
   ]
  },
  {
   "cell_type": "markdown",
   "metadata": {},
   "source": [
    "Tests de les funcions, pots realitzar modificacions prèvies a les taules (per exemple, agrupar o pivotar) per accelerar el procés"
   ]
  },
  {
   "cell_type": "code",
   "execution_count": 66,
   "metadata": {
    "collapsed": false
   },
   "outputs": [
    {
     "name": "stdout",
     "output_type": "stream",
     "text": [
      "0.333333333333\n",
      "0.416666666667\n"
     ]
    }
   ],
   "source": [
    "# Execute functions\n",
    "new_data = data.pivot(\"user_id\", \"movie_id\", \"rating\")\n",
    "print sim_euclid(new_data, 1, 2)\n",
    "print sim_pearson(new_data, 1, 2)"
   ]
  },
  {
   "cell_type": "markdown",
   "metadata": {},
   "source": [
    "### EXERCICI 5\n",
    "\n",
    "+ Feu dues funcions, ``get_best_euclid(data_frame, user, n)`` i ``get_best_pearson(data_frame, user, n)``, que retornin els ``n`` usuaris més semblants segons aquestes dues mesures de similitud."
   ]
  },
  {
   "cell_type": "code",
   "execution_count": 69,
   "metadata": {
    "collapsed": false
   },
   "outputs": [],
   "source": [
    "import heapq\n",
    "\n",
    "# return the N most similar users to a given user based on euclidean distance\n",
    "def get_best_euclid(data_frame, user, n):\n",
    "    new_data = data_frame.pivot(\"user_id\", \"movie_id\", \"rating\")\n",
    "    users = data_frame[data_frame.user_id != user][\"user_id\"].unique()\n",
    "    return heapq.nsmallest(n, users, key=lambda x: sim_euclid(new_data, x, user))\n",
    "\n",
    "# return the N most similar users to a given user based on pearson correlation\n",
    "def get_best_pearson(data_frame, user, n):\n",
    "    new_data = data_frame.pivot(\"user_id\", \"movie_id\", \"rating\")\n",
    "    users = data_frame[data_frame.user_id != user][\"user_id\"].unique()\n",
    "    return heapq.nlargest(n, users, key=lambda x: sim_pearson(new_data, x, user))"
   ]
  },
  {
   "cell_type": "code",
   "execution_count": 70,
   "metadata": {
    "collapsed": false
   },
   "outputs": [
    {
     "name": "stdout",
     "output_type": "stream",
     "text": [
      "[46, 92, 26, 75, 53]\n",
      "[72, 66, 57, 40, 47]\n"
     ]
    }
   ],
   "source": [
    "# Execute functions\n",
    "# Aquestes funcions poden trigar a executar-se; feu proves primer amb una part petita de la base de dades.\n",
    "\n",
    "print get_best_euclid(data, 1, 5)\n",
    "print get_best_pearson(data, 1, 5)"
   ]
  },
  {
   "cell_type": "markdown",
   "metadata": {},
   "source": [
    "### EXERCICI 6\n",
    "\n",
    "En l'exercici 6 i 7 es desenvoluparà un sistema de recomanació basat en usuaris i en ítems, respectivament.\n",
    "\n",
    "El codi donat, que es basa en 3 classes, és la recomenada per fer-ho òptim i reaprofitar el màxim de codi, però s'acceptaran solucions que no la segueixin, sempre hi quan respectin el mètode \"estimate\" explicat més abaix i funcionin de forma correcte.\n",
    "\n",
    "#### `CollaborativeFiltering`\n",
    "\n",
    "Una classe base, comuna en els 2 recomanadors, que implementarà:\n",
    "  \n",
    "  * `__init__`: Rep com a paràmetres el dataframe (que constarà de `user_id`, `movie_id` i `rating`), la funció de semblança (Euclidiana o Pearson) que volem usar i un paràmetre `M` que indica el tamany que tindrà la matriu de similituds.\n",
    "  \n",
    "  * `precompute`: Generar per cada estimació la semblança entre 2 usuaris o items seria molt costós i faria l'algorisme molt lent, per tant, aquesta funció omplirà la taula MxM (on M es el número de usuaris o items, segons el recomanador) amb el coeficient de semblança.\n",
    "      * Nota: La taula es un DataFrame de Pandas, per tant accedirem als element fent servir l'indexat de Pandas (que correspon al id del user/movie, i no a la posició 0...i)\n",
    "  \n",
    "  * `estimate`: s'encarrega de donar la predicció, en aquest cas donat un usuari i una pel·lícula estimar el seu rating.\n",
    "    + Nota 1: Si un `user_id` o `movie_id` no es troba en el DataFrame, cal retornar \"np.NAN\"\n",
    "    + Nota 2: En el recomenador d'usuaris, s'ha d'evitar comparar `user_id` a ell mateix. De la mateixa forma, en el d'items evitarem comparar un `movie_id` amb sí mateix.\n",
    "\n",
    "#### `UserRecomender`\n",
    "\n",
    "Recomanador basat en usuaris que hereta de `CollaborativeFiltering`. Implementarà:\n",
    "\n",
    "  * `__init__`: Pot realitzar transformacions al DataFrame\n",
    "  \n",
    "#### `ItemRecomender`\n",
    "\n",
    "Recomanador basat en items que hereta de `CollaborativeFiltering`. Implementarà:\n",
    "\n",
    "  * `__init__`: Pot realitzar transformacions al DataFrame\n",
    "    "
   ]
  },
  {
   "cell_type": "code",
   "execution_count": 78,
   "metadata": {
    "collapsed": false
   },
   "outputs": [],
   "source": [
    "class CollaborativeFiltering(object):\n",
    "    \"\"\" Collaborative filtering using a custom sim(u,u'). \"\"\"\n",
    "    \n",
    "    def __init__(self, data, M, similarity=sim_pearson):\n",
    "        \"\"\" Constructor \"\"\"\n",
    "        self.sim_method = similarity # Gets recommendations for a person by using a weighted average\n",
    "        self.df = data \n",
    "        self.sim = pd.DataFrame(0, index=self.df.index, columns=self.df.index)\n",
    "        \n",
    "    def precompute(self):\n",
    "        from itertools import combinations\n",
    "        \"\"\"Prepare data structures for estimation. Compute similarity matrix self.sim\"\"\"\n",
    "        for i,j in combinations(self.sim.index, 2):\n",
    "            self.sim.loc[i, j] = self.sim.loc[j, i] = self.sim_method(self.df, i, j)\n",
    "        print self.sim\n",
    "    def estimate(self, row, col):\n",
    "        \"\"\" Given an row (user_id in 6, movie_id in 7) and a column (movie_id in 6, user_id in 7) \n",
    "            returns the estimated rating \"\"\"\n",
    "        if row not in self.df.index or col not in self.df.columns:\n",
    "            return np.nan\n",
    "        similarities = self.sim.loc[row]\n",
    "        def f(score, value):\n",
    "            if score < 0:\n",
    "                return (5 - value) * -score\n",
    "            return value * score\n",
    "        tmp = [f(sim_score, self.df.loc[id_value, col])\n",
    "               for id_value, sim_score in similarities.iteritems()\n",
    "               if not np.isnan(self.df.loc[id_value, col])\n",
    "               if not np.isnan(sim_score)]\n",
    "        #print tmp\n",
    "        total = sum(tmp)\n",
    "        return total / similarities.apply(abs).sum()\n",
    "        "
   ]
  },
  {
   "cell_type": "code",
   "execution_count": 79,
   "metadata": {
    "collapsed": false
   },
   "outputs": [],
   "source": [
    "class UserRecomender(CollaborativeFiltering):\n",
    "    \"\"\" Recomender using Collaborative filtering with a User similarity (u,u'). \"\"\"\n",
    "    \n",
    "    def __init__(self, data_train, similarity=sim_pearson):\n",
    "        \"\"\" Constructor \"\"\"\n",
    "        \n",
    "        # You should do any transformation to data_train (grouping/pivot/...) here, if needed\n",
    "        transformed_data = data_train.pivot(\"user_id\", \"movie_id\", \"rating\")\n",
    "        \n",
    "        super(UserRecomender, self).__init__(transformed_data, data_train.user_id.unique(), similarity)\n",
    "\n",
    "                \n",
    "    def estimate(self, user_id, movie_id):\n",
    "        \"\"\" Given an user_id and a movie_id returns the estimated rating for such movie \"\"\"\n",
    "        return super(UserRecomender, self).estimate(user_id, movie_id)\n",
    "        "
   ]
  },
  {
   "cell_type": "code",
   "execution_count": null,
   "metadata": {
    "collapsed": false
   },
   "outputs": [],
   "source": []
  },
  {
   "cell_type": "code",
   "execution_count": 80,
   "metadata": {
    "collapsed": false
   },
   "outputs": [
    {
     "name": "stdout",
     "output_type": "stream",
     "text": [
      "user_id        1         2         3         4         5         6         7   \\\n",
      "user_id                                                                         \n",
      "1        0.000000 -0.577350 -0.522233  0.500000 -0.098533  0.868599       NaN   \n",
      "2       -0.577350  0.000000 -0.250000 -0.288675 -0.421637 -0.389249  0.147832   \n",
      "3       -0.522233 -0.250000  0.000000  0.774597 -0.333333 -0.333333  0.763763   \n",
      "4        0.500000 -0.288675  0.774597  0.000000       NaN       NaN -0.188982   \n",
      "5       -0.098533 -0.421637 -0.333333       NaN  0.000000 -0.681385 -0.138343   \n",
      "6        0.868599 -0.389249 -0.333333       NaN -0.681385  0.000000       NaN   \n",
      "7             NaN  0.147832  0.763763 -0.188982 -0.138343       NaN  0.000000   \n",
      "8       -0.750000 -0.010747 -0.422577  0.866025  0.282860 -0.438529  0.211702   \n",
      "9        0.140563  0.554274 -0.522233       NaN -0.045727 -0.339683  0.698430   \n",
      "10       0.011450 -0.322031 -0.005318 -0.519291 -0.112818  0.122810  0.487950   \n",
      "11      -0.158114  0.000000 -0.611111       NaN  0.285273  0.000000 -0.693375   \n",
      "12            NaN -0.522233       NaN       NaN       NaN  0.000000       NaN   \n",
      "13       0.577350  0.451969  0.330590 -0.210042  0.185587 -0.816497  0.000000   \n",
      "14            NaN  1.000000       NaN  0.000000 -0.058824  0.000000  0.000000   \n",
      "15       1.000000  0.348477  0.586667       NaN -0.182004  0.483177 -0.018871   \n",
      "16            NaN  0.000000       NaN  0.000000  0.942809       NaN  0.000000   \n",
      "17      -0.267261  0.012134 -0.766032 -0.049286  0.013854 -0.072548  0.162650   \n",
      "18      -0.101195  0.372337  0.467764  0.439027  0.030011  0.023168  0.642575   \n",
      "19       0.000000  0.308709 -0.072232 -0.187317  0.146976 -0.089803  0.103011   \n",
      "20            NaN  0.632456  0.000000       NaN  0.000000       NaN -0.577350   \n",
      "21       1.000000       NaN -1.000000       NaN       NaN       NaN  0.000000   \n",
      "22       0.442326  0.283167 -0.048656 -0.216930  0.166045  0.170547  0.317190   \n",
      "23       0.560612 -0.233345 -0.428571 -0.138197  0.032124 -0.630032 -0.163299   \n",
      "24       0.377964 -0.253966  0.547723       NaN  0.115728 -0.527046  0.534522   \n",
      "25      -0.612372  0.000000 -0.122279 -0.377964 -0.279101 -1.000000  0.028677   \n",
      "26      -0.333944 -0.226534  0.029062  0.311376 -0.457604 -0.332624 -0.475191   \n",
      "27            NaN  0.045038       NaN       NaN  0.382546  1.000000  0.000000   \n",
      "28       0.000000 -0.142325  0.204124 -0.198030  0.314347       NaN  0.612372   \n",
      "29            NaN  0.401055  0.721688 -0.131306  0.000000       NaN  0.531610   \n",
      "30       0.585491  0.918559       NaN -1.000000  0.058893       NaN       NaN   \n",
      "...           ...       ...       ...       ...       ...       ...       ...   \n",
      "70       0.000000  0.852803       NaN       NaN -0.256863 -0.866025 -1.000000   \n",
      "71            NaN  1.000000       NaN       NaN -0.080064       NaN       NaN   \n",
      "72       0.870388  0.235702       NaN       NaN -0.182818  0.243975  1.000000   \n",
      "73      -0.160128  0.391643 -0.123635  0.270031 -0.232721  0.228218  0.385922   \n",
      "74      -0.866025       NaN       NaN  0.000000  0.367167 -0.435286       NaN   \n",
      "75      -0.234578  0.000000 -0.662266       NaN  0.600481  0.094048 -0.500000   \n",
      "76       0.198030  0.000000 -1.000000  0.000000  0.417709 -0.583333 -1.000000   \n",
      "77       0.000000 -1.000000  0.000000  0.000000  0.457922 -1.000000       NaN   \n",
      "78       0.000000  0.612372       NaN  0.000000  0.094370  0.357839  0.000000   \n",
      "79            NaN       NaN       NaN  0.000000  0.559017       NaN  1.000000   \n",
      "80       0.111803  0.309035 -0.301511       NaN -0.108465 -0.763763 -0.500000   \n",
      "81            NaN -0.040161  0.534522  0.772110 -0.097590 -1.000000 -0.500000   \n",
      "82       0.482382  0.660132  0.000000  0.000000 -0.255888 -0.426401  0.469042   \n",
      "83      -0.612372  0.504184  0.279508       NaN  0.088296  0.594089  0.707107   \n",
      "84      -0.904534 -0.253917  0.682863 -0.295804  0.960769       NaN  0.408248   \n",
      "85            NaN -0.132453  0.000000       NaN  0.790569  1.000000  0.207514   \n",
      "86      -1.000000  0.471405 -1.000000       NaN -0.852803 -0.200446       NaN   \n",
      "87       0.500000  0.653692 -0.509525  0.053631 -0.891883  0.577350  0.668350   \n",
      "88            NaN  0.438673  0.471405  0.866025 -0.040032       NaN  0.500000   \n",
      "89       0.962250  1.000000  0.379980       NaN -0.866025       NaN       NaN   \n",
      "90      -0.390448  0.408674  0.500000       NaN -0.000698  0.583333  0.160128   \n",
      "91            NaN       NaN       NaN  0.000000 -1.000000       NaN  0.000000   \n",
      "92       0.284247  0.101721 -0.278410 -0.904534  0.070519  0.205182  0.033776   \n",
      "93      -0.226871  0.289969  0.573568  0.637377 -0.195564 -0.665750  0.436436   \n",
      "94       0.000000  0.000000       NaN  0.000000  0.500000  0.000000  0.000000   \n",
      "95       0.426401  0.300625 -0.573819 -0.246183 -0.205843  0.577350  0.586975   \n",
      "96      -0.455233 -0.164184  0.428571  0.522233 -0.096674 -0.037662  0.482382   \n",
      "97      -0.577350  0.500000       NaN  0.333333  0.000000       NaN -1.000000   \n",
      "98            NaN -0.301511       NaN       NaN -0.870388       NaN -0.492366   \n",
      "99      -0.265805 -0.267782 -0.426401  0.000000 -0.059218 -0.612372 -0.981981   \n",
      "\n",
      "user_id            8         9         10    ...           90        91  \\\n",
      "user_id                                      ...                          \n",
      "1       -7.500000e-01  0.140563  0.011450    ...    -0.390448       NaN   \n",
      "2       -1.074668e-02  0.554274 -0.322031    ...     0.408674       NaN   \n",
      "3       -4.225771e-01 -0.522233 -0.005318    ...     0.500000       NaN   \n",
      "4        8.660254e-01       NaN -0.519291    ...          NaN  0.000000   \n",
      "5        2.828595e-01 -0.045727 -0.112818    ...    -0.000698 -1.000000   \n",
      "6       -4.385290e-01 -0.339683  0.122810    ...     0.583333       NaN   \n",
      "7        2.117024e-01  0.698430  0.487950    ...     0.160128  0.000000   \n",
      "8        0.000000e+00  0.587339  0.057716    ...     0.232170       NaN   \n",
      "9        5.873394e-01  0.000000 -0.184094    ...     0.206370  0.408248   \n",
      "10       5.771579e-02 -0.184094  0.000000    ...    -0.137505  0.052541   \n",
      "11       1.825590e-02  0.051503  0.110163    ...     0.507650       NaN   \n",
      "12                NaN       NaN  0.408248    ...     1.000000  0.000000   \n",
      "13       3.813564e-01  0.365148 -0.174296    ...     0.556215       NaN   \n",
      "14      -6.933752e-01       NaN  0.500000    ...    -0.420084  0.000000   \n",
      "15       4.095406e-01  0.618590 -0.141514    ...     0.213657       NaN   \n",
      "16       7.559289e-01       NaN  0.000000    ...    -0.866025  0.000000   \n",
      "17       3.144972e-01  0.428339 -0.136244    ...     0.456357  1.000000   \n",
      "18       6.208784e-01  0.219395  0.271676    ...     0.237581       NaN   \n",
      "19       3.787382e-01 -0.040287 -0.053258    ...     0.118550       NaN   \n",
      "20                NaN  1.000000 -0.418330    ...     0.482382       NaN   \n",
      "21      -5.000000e-01 -0.500000  0.133631    ...     0.000000  0.000000   \n",
      "22       4.114722e-01  0.707339 -0.172726    ...     0.399568       NaN   \n",
      "23      -3.032392e-01 -0.160377  0.277182    ...    -0.113023 -0.333333   \n",
      "24       5.635760e-01  0.337100  0.140712    ...     0.448914       NaN   \n",
      "25      -3.194383e-01 -0.365636 -0.060572    ...    -0.297775       NaN   \n",
      "26       6.773694e-02 -0.432104  0.168561    ...    -0.166123       NaN   \n",
      "27                NaN -0.500000 -0.196385    ...    -0.283069 -0.250000   \n",
      "28       1.242260e-01 -0.344447  0.007734    ...     0.398478  0.166667   \n",
      "29       4.909903e-01  0.241523 -0.272868    ...    -0.130410       NaN   \n",
      "30       8.333333e-02  0.613167 -0.263117    ...     0.534522  0.000000   \n",
      "...               ...       ...       ...    ...          ...       ...   \n",
      "70      -1.000000e+00  0.622171 -0.126491    ...     0.528396  1.000000   \n",
      "71                NaN  0.316228  0.285450    ...     0.220479       NaN   \n",
      "72       3.499271e-01  0.000000 -0.320494    ...    -0.463401       NaN   \n",
      "73       2.545139e-01  0.404423 -0.033667    ...     0.441273  0.943880   \n",
      "74      -3.333333e-01  0.316228 -0.545545    ...     0.870388       NaN   \n",
      "75       6.666667e-01  0.372104 -0.090390    ...     0.115728  0.000000   \n",
      "76       4.009377e-01  0.582966  0.060396    ...     0.484302       NaN   \n",
      "77                NaN -0.240772  0.624758    ...     0.459920       NaN   \n",
      "78       1.000000e+00 -0.043853  0.068461    ...    -0.309559  0.456435   \n",
      "79                NaN       NaN       NaN    ...          NaN  0.000000   \n",
      "80       1.875586e-02 -0.040723  0.150419    ...     0.507796       NaN   \n",
      "81       5.960396e-01  0.875000 -0.263625    ...     0.158326 -0.333333   \n",
      "82       7.741360e-01  0.163814  0.262896    ...    -0.047139       NaN   \n",
      "83      -2.626129e-01  0.458682  0.175694    ...     0.128573       NaN   \n",
      "84       0.000000e+00 -0.577350  0.712921    ...     0.327327       NaN   \n",
      "85                NaN  0.000000 -0.738549    ...     0.153252  0.000000   \n",
      "86       6.123724e-01  0.408248  0.000000    ...    -0.047246  0.000000   \n",
      "87       2.564946e-01  0.960769  0.013023    ...     0.500000       NaN   \n",
      "88      -2.927700e-01 -0.269191 -0.102986    ...     0.496139       NaN   \n",
      "89      -3.061862e-01  1.000000  0.508355    ...    -0.866025       NaN   \n",
      "90       2.321703e-01  0.206370 -0.137505    ...     0.000000       NaN   \n",
      "91                NaN  0.408248  0.052541    ...          NaN  0.000000   \n",
      "92       3.614937e-02  0.706443  0.050789    ...     0.226706  0.634811   \n",
      "93       4.311889e-01  0.395527  0.167615    ...    -0.271324       NaN   \n",
      "94                NaN  0.000000 -0.500000    ...          NaN  0.000000   \n",
      "95      -9.053575e-03  0.220591  0.322320    ...     0.462684       NaN   \n",
      "96       3.241153e-17  0.170000 -0.153052    ...     0.081981       NaN   \n",
      "97       6.123724e-01       NaN -0.016322    ...     0.346844  0.487950   \n",
      "98                NaN  0.577350 -0.875000    ...     0.894427       NaN   \n",
      "99       6.648479e-01  0.175387 -0.205101    ...     0.437164 -0.133631   \n",
      "\n",
      "user_id        92        93   94            95            96        97  \\\n",
      "user_id                                                                  \n",
      "1        0.284247 -0.226871  0.0  4.264014e-01 -4.552327e-01 -0.577350   \n",
      "2        0.101721  0.289969  0.0  3.006253e-01 -1.641842e-01  0.500000   \n",
      "3       -0.278410  0.573568  NaN -5.738190e-01  4.285714e-01       NaN   \n",
      "4       -0.904534  0.637377  0.0 -2.461830e-01  5.222330e-01  0.333333   \n",
      "5        0.070519 -0.195564  0.5 -2.058432e-01 -9.667365e-02  0.000000   \n",
      "6        0.205182 -0.665750  0.0  5.773503e-01 -3.766218e-02       NaN   \n",
      "7        0.033776  0.436436  0.0  5.869745e-01  4.823819e-01 -1.000000   \n",
      "8        0.036149  0.431189  NaN -9.053575e-03  3.241153e-17  0.612372   \n",
      "9        0.706443  0.395527  0.0  2.205914e-01  1.700000e-01       NaN   \n",
      "10       0.050789  0.167615 -0.5  3.223199e-01 -1.530524e-01 -0.016322   \n",
      "11       0.091392  0.577350  NaN  3.291061e-01  2.927700e-01  0.891133   \n",
      "12       0.133631       NaN  0.0           NaN           NaN  1.000000   \n",
      "13       0.074935  0.277485  0.0  4.937214e-01  1.927726e-01  0.577350   \n",
      "14      -0.271523 -0.327327  0.0 -5.000000e-01           NaN -1.000000   \n",
      "15       0.313244  0.331824  0.0  3.286975e-01  1.474420e-02  0.417365   \n",
      "16       0.739770  0.824226  0.0           NaN  0.000000e+00       NaN   \n",
      "17       0.009796  0.329153  0.5  2.123839e-01  1.818182e-02  0.625543   \n",
      "18       0.290554  0.674984  NaN  2.408939e-01  4.057459e-01  0.460566   \n",
      "19       0.280396  0.103542 -0.5  1.353612e-01 -7.315488e-02 -0.009559   \n",
      "20       0.513638  0.000000  0.0  3.333333e-01  2.182179e-01  0.500000   \n",
      "21       0.297044  0.333333  0.0  0.000000e+00           NaN  0.000000   \n",
      "22       0.248738  0.381145 -1.0  3.143093e-01 -5.800148e-02  0.446596   \n",
      "23      -0.083897 -0.034024  0.0 -2.725022e-02  1.772934e-01 -0.256439   \n",
      "24       0.315504  0.165080  NaN  0.000000e+00  3.604651e-01  0.218218   \n",
      "25       0.410115  0.219977  NaN  1.172340e-01  7.035265e-01  1.000000   \n",
      "26      -0.116369 -0.129863  NaN -5.447219e-17 -3.591113e-02  0.188982   \n",
      "27      -0.007270 -0.284268  NaN -1.000000e+00 -2.425356e-01  0.198030   \n",
      "28      -0.100391 -0.628655  NaN  1.370377e-01  7.348469e-01  0.192006   \n",
      "29      -0.037644 -0.050070  0.0 -1.226938e-01  3.152641e-01 -0.155700   \n",
      "30       0.379557  0.860013  0.0  1.123509e-01  4.517540e-01  0.447214   \n",
      "...           ...       ...  ...           ...           ...       ...   \n",
      "70       0.318082  0.462910  NaN -4.082483e-01 -6.651330e-01 -0.522233   \n",
      "71       0.139122       NaN  0.0           NaN           NaN -1.000000   \n",
      "72      -0.059440  0.866025  0.0 -4.108907e-01  3.721042e-01 -1.000000   \n",
      "73       0.361536  0.554584 -1.0  3.592939e-01  5.801745e-01  0.375000   \n",
      "74      -0.091287       NaN  0.0  9.045340e-01 -3.227486e-01 -0.316228   \n",
      "75       0.053032  0.264710  1.0 -2.425356e-01 -3.418817e-01  1.000000   \n",
      "76      -0.028506  0.336339  0.0  3.926095e-01  1.666667e-01       NaN   \n",
      "77       0.138005       NaN  0.0           NaN -9.428090e-01       NaN   \n",
      "78      -0.033928  1.000000  NaN -3.040835e-01  4.719399e-01  0.643494   \n",
      "79      -0.211604       NaN  0.0           NaN           NaN       NaN   \n",
      "80       0.228533 -0.412514  0.0 -2.503131e-02 -7.100716e-02  1.000000   \n",
      "81       0.520416 -0.165748  NaN -4.152274e-01  0.000000e+00  0.395780   \n",
      "82       0.469496  0.276654  0.0  5.101020e-01  3.404405e-01       NaN   \n",
      "83       0.182602  0.495564  NaN  4.264014e-01  7.893522e-01       NaN   \n",
      "84       0.183130  0.686706  0.0  6.859943e-01 -3.225806e-02  0.500000   \n",
      "85       0.233995 -0.866025  0.0  4.545455e-01  1.889822e-01 -0.140028   \n",
      "86       0.326699  0.170251  NaN  3.888889e-01  9.684960e-01  1.000000   \n",
      "87       0.179208 -0.034949  0.0  5.196152e-01 -1.624591e-01  0.500000   \n",
      "88       0.281117  1.000000  NaN -2.535463e-01 -6.324555e-01  0.598026   \n",
      "89      -0.613825 -1.000000  0.0  4.082483e-01  1.000000e+00       NaN   \n",
      "90       0.226706 -0.271324  NaN  4.626838e-01  8.198113e-02  0.346844   \n",
      "91       0.634811       NaN  0.0           NaN           NaN  0.487950   \n",
      "92       0.000000  0.372688  NaN  3.630795e-02  1.513916e-01  0.309570   \n",
      "93       0.372688  0.000000  NaN  5.382477e-01 -1.408590e-01  0.000000   \n",
      "94            NaN       NaN  0.0  0.000000e+00  0.000000e+00       NaN   \n",
      "95       0.036308  0.538248  0.0  0.000000e+00  3.448301e-02 -0.327327   \n",
      "96       0.151392 -0.140859  0.0  3.448301e-02  0.000000e+00  0.800641   \n",
      "97       0.309570  0.000000  NaN -3.273268e-01  8.006408e-01  0.000000   \n",
      "98       0.021597  1.000000  0.0 -7.905694e-02  1.336306e-01  0.500000   \n",
      "99       0.394046 -0.293640  NaN  5.443610e-02 -2.546533e-01  0.000000   \n",
      "\n",
      "user_id        98        99  \n",
      "user_id                      \n",
      "1             NaN -0.265805  \n",
      "2       -0.301511 -0.267782  \n",
      "3             NaN -0.426401  \n",
      "4             NaN  0.000000  \n",
      "5       -0.870388 -0.059218  \n",
      "6             NaN -0.612372  \n",
      "7       -0.492366 -0.981981  \n",
      "8             NaN  0.664848  \n",
      "9        0.577350  0.175387  \n",
      "10      -0.875000 -0.205101  \n",
      "11            NaN -0.336339  \n",
      "12            NaN  0.288675  \n",
      "13      -0.133631  0.200805  \n",
      "14       0.000000 -0.973729  \n",
      "15       0.852803  0.610835  \n",
      "16       0.000000  0.000000  \n",
      "17       0.000000  0.335117  \n",
      "18       0.960769 -0.194678  \n",
      "19      -0.534522  0.103908  \n",
      "20            NaN  0.666667  \n",
      "21       0.000000 -1.000000  \n",
      "22       0.728869 -0.119346  \n",
      "23      -0.038348 -0.205642  \n",
      "24       0.870388 -0.238311  \n",
      "25            NaN -0.250000  \n",
      "26      -0.223957  0.180144  \n",
      "27            NaN  0.130682  \n",
      "28       0.216930 -0.147043  \n",
      "29       0.000000       NaN  \n",
      "30      -0.577350 -0.033315  \n",
      "...           ...       ...  \n",
      "70            NaN -0.269510  \n",
      "71       1.000000       NaN  \n",
      "72            NaN -0.621130  \n",
      "73       0.156300  0.124545  \n",
      "74            NaN -0.471405  \n",
      "75       0.000000 -0.495464  \n",
      "76            NaN  0.093114  \n",
      "77            NaN  0.200000  \n",
      "78       0.000000  0.328551  \n",
      "79      -1.000000 -0.324443  \n",
      "80       0.500000 -0.179487  \n",
      "81            NaN  0.108799  \n",
      "82       0.480384 -0.284667  \n",
      "83            NaN -0.225668  \n",
      "84            NaN  0.870388  \n",
      "85      -0.833333  0.509253  \n",
      "86            NaN  0.327327  \n",
      "87            NaN  0.589165  \n",
      "88       0.577350  0.136554  \n",
      "89            NaN -0.500000  \n",
      "90       0.894427  0.437164  \n",
      "91            NaN -0.133631  \n",
      "92       0.021597  0.394046  \n",
      "93       1.000000 -0.293640  \n",
      "94       0.000000       NaN  \n",
      "95      -0.079057  0.054436  \n",
      "96       0.133631 -0.254653  \n",
      "97       0.500000  0.000000  \n",
      "98       0.000000       NaN  \n",
      "99            NaN  0.000000  \n",
      "\n",
      "[99 rows x 99 columns]\n"
     ]
    },
    {
     "data": {
      "text/plain": [
       "0.62616342438188044"
      ]
     },
     "execution_count": 80,
     "metadata": {},
     "output_type": "execute_result"
    }
   ],
   "source": [
    "user_reco = UserRecomender(movielens_train)\n",
    "user_reco.precompute()\n",
    "user_reco.estimate(user_id=2, movie_id=1)"
   ]
  },
  {
   "cell_type": "code",
   "execution_count": 81,
   "metadata": {
    "collapsed": false
   },
   "outputs": [
    {
     "data": {
      "text/plain": [
       "3.5041755770742564"
      ]
     },
     "execution_count": 81,
     "metadata": {},
     "output_type": "execute_result"
    }
   ],
   "source": [
    "evaluate(user_reco.estimate, movielens_test)"
   ]
  },
  {
   "cell_type": "markdown",
   "metadata": {},
   "source": [
    "### EXERCICI 7\n",
    "\n",
    "+ Desenvolupa un sistema de recomanació col·laboratiu basat en ítems. Si la classe `CollaborativeFiltering` s'ha fet prou genèrica, tan sols caldrà fer petites modificacions a `__init__`, del contrari, podeu fer les modificacions que cregueu necessàries."
   ]
  },
  {
   "cell_type": "code",
   "execution_count": null,
   "metadata": {
    "collapsed": false
   },
   "outputs": [],
   "source": [
    "class ItemRecomender(CollaborativeFiltering):\n",
    "    \"\"\" Recomender using Collaborative filtering with a Item similarity (i,i'). \"\"\"\n",
    "    \n",
    "    def __init__(self,data_train, similarity=sim_pearson):\n",
    "        \"\"\" Constructor \"\"\"\n",
    "        \n",
    "        # You should do any transformation to data_train (grouping/pivot/...) here, if needed\n",
    "        transformed_data = data_train\n",
    "        \n",
    "        super(ItemRecomender, self).__init__(transformed_data, data_train.movie_id.unique(), similarity)\n",
    "\n",
    "            \n",
    "    def estimate(self, user_id, movie_id):\n",
    "        \"\"\" Given an user_id and a movie_id returns the estimated rating for such movie \"\"\"\n",
    "        return super(ItemRecomender, self).estimate(movie_id, user_id)\n",
    "        "
   ]
  },
  {
   "cell_type": "code",
   "execution_count": null,
   "metadata": {
    "collapsed": false
   },
   "outputs": [],
   "source": [
    "item_reco = ItemRecomender(movielens_train)\n",
    "item_reco.precompute()\n",
    "item_reco.estimate(user_id=2, movie_id=1)"
   ]
  },
  {
   "cell_type": "code",
   "execution_count": null,
   "metadata": {
    "collapsed": false
   },
   "outputs": [],
   "source": [
    "evaluate(item_reco.estimate, movielens_test)"
   ]
  },
  {
   "cell_type": "markdown",
   "metadata": {},
   "source": [
    "### EXERCICI 8\n",
    "\n",
    "* Feu un nou mètode `get_recomendations(user_id, n)` que retorni les n pel·lícules recomenades per a l'usuari user_id. De nou, és recomenable fer-ho a la clase pare, `CollaborativeFiltering`, cridant-la des dels fills de forma semblant a com fa `estimate`.\n",
    "\n",
    "* Executeu la funció en els dos recomenadors "
   ]
  },
  {
   "cell_type": "code",
   "execution_count": null,
   "metadata": {
    "collapsed": false
   },
   "outputs": [],
   "source": [
    "user_reco.get_recomendations(1, 5)"
   ]
  },
  {
   "cell_type": "code",
   "execution_count": null,
   "metadata": {
    "collapsed": false
   },
   "outputs": [],
   "source": [
    "item_reco.get_recomendations(1, 5)"
   ]
  }
 ],
 "metadata": {
  "anaconda-cloud": {},
  "kernelspec": {
   "display_name": "Python [conda root]",
   "language": "python",
   "name": "conda-root-py"
  },
  "language_info": {
   "codemirror_mode": {
    "name": "ipython",
    "version": 2
   },
   "file_extension": ".py",
   "mimetype": "text/x-python",
   "name": "python",
   "nbconvert_exporter": "python",
   "pygments_lexer": "ipython2",
   "version": "2.7.12"
  }
 },
 "nbformat": 4,
 "nbformat_minor": 0
}
