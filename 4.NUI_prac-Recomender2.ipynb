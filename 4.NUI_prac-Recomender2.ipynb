{
 "cells": [
  {
   "cell_type": "markdown",
   "metadata": {},
   "source": [
    "# Pràctiques de Nous Usos de la Informàtica"
   ]
  },
  {
   "cell_type": "markdown",
   "metadata": {},
   "source": [
    "**Nom de les persones del grup:** Christian José Soler & Jordi Olivares Provencio"
   ]
  },
  {
   "cell_type": "markdown",
   "metadata": {},
   "source": [
    "# Pràctica 2. Recomanadors"
   ]
  },
  {
   "cell_type": "markdown",
   "metadata": {},
   "source": [
    "# Construcció d'un recomanador."
   ]
  },
  {
   "cell_type": "code",
   "execution_count": null,
   "metadata": {
    "collapsed": false
   },
   "outputs": [],
   "source": [
    "N=100"
   ]
  },
  {
   "cell_type": "code",
   "execution_count": null,
   "metadata": {
    "collapsed": false
   },
   "outputs": [],
   "source": [
    "# lectura de dades\n",
    "\n",
    "import pandas as pd\n",
    "import numpy as np\n",
    "\n",
    "unames = ['user_id', 'gender', 'age', 'occupation', 'zip']\n",
    "users = pd.read_table('ml-1m/users.dat', sep='::', header=None, names=unames, engine='python')\n",
    "rnames = ['user_id', 'movie_id', 'rating', 'timestamp']\n",
    "ratings = pd.read_table('ml-1m/ratings.dat', sep='::', header=None, names=rnames, engine='python')\n",
    "mnames = ['movie_id', 'title', 'genres']\n",
    "movies = pd.read_table('ml-1m/movies.dat', sep='::', header=None, names=mnames, engine='python')\n",
    "\n",
    "data = pd.merge(pd.merge(ratings, users), movies)\n",
    "data = data[data.user_id < N]\n",
    "#data = data[data.movie_id < N]"
   ]
  },
  {
   "cell_type": "markdown",
   "metadata": {},
   "source": [
    "**Alerta**: Les implementacions dels exercicis 6, 7 i 8 poden tardar molt en executar-se, considera fer-ho en un subset de les dades originals. En la 1a cel·la:\n",
    "```\n",
    "    data = data[data.user_id < 100]\n",
    "    data = data[data.movie_id < 100]\n",
    "```\n",
    "El codi anterior limitaria les dades a 100 usuaris i 100 películes. Recorda re-executar les cel·les.\n",
    "\n",
    "Com a guia, una implementació que usi N usuaris i películes, per l'exercici 6, ot arribar a trigar:\n",
    "\n",
    "* N=100, 5 segons a 60 segons\n",
    "* N=1000, 15 minuts a 1 hora\n",
    "* N=10000, 20 hores a 60 hores\n",
    "\n",
    "segons la implementació utilitzada"
   ]
  },
  {
   "cell_type": "markdown",
   "metadata": {},
   "source": [
    "El següent codi, donat el conjunt de dades, construeix un conjunt d'entrenament i un conjunt  de test:"
   ]
  },
  {
   "cell_type": "code",
   "execution_count": null,
   "metadata": {
    "collapsed": false
   },
   "outputs": [],
   "source": [
    "# generem subconjunts de training i test\n",
    "def assign_to_set(df):\n",
    "    sampled_ids = np.random.choice(df.index,\n",
    "                                   size=np.int64(np.ceil(df.index.size * 0.2)),\n",
    "                                   replace=False)\n",
    "    ### For mocking random ###\n",
    "    #sampled_ids = mock[ind[0]]\n",
    "    #ind[0]+=1\n",
    "    df.ix[sampled_ids, 'for_testing'] = True\n",
    "    return df\n",
    "\n",
    "data['for_testing'] = False\n",
    "grouped = data.groupby('user_id', group_keys=False).apply(assign_to_set)\n",
    "movielens_train = data[grouped.for_testing == False]\n",
    "movielens_test = data[grouped.for_testing == True]\n",
    "print movielens_train.shape\n",
    "print movielens_test.shape"
   ]
  },
  {
   "cell_type": "markdown",
   "metadata": {},
   "source": [
    "La següent funció `evaluate(estimate)`, donat un conjunt de dades d'entrenament i un conjunt de dades de test ens avalua la precisió d'un sistema de recomanació que li passem per paràmetre. Per a cadascun dels elements del conjunt de test haurem de pronosticar el seu valor i comparar-lo amb el valor real que l'usuari li ha asignat. La mesura que utilizarem per avaluar el sistema és la root-mean-square error (rsme)"
   ]
  },
  {
   "cell_type": "code",
   "execution_count": null,
   "metadata": {
    "collapsed": false
   },
   "outputs": [],
   "source": [
    "# definim una funció per avaluar el resultat de la recomanació.\n",
    "\n",
    "def compute_rmse(y_pred, y_true):\n",
    "    return np.sqrt(np.mean(np.power(y_pred - y_true, 2)))\n",
    "\n",
    "def evaluate(estimate,test=movielens_test):\n",
    "    ids_to_estimate = zip(test['user_id'], test['movie_id'])\n",
    "    estimated = np.array([estimate(u,i) for (u,i) in ids_to_estimate])\n",
    "    real = test.rating.values\n",
    "    nans = np.isnan(estimated)\n",
    "    return compute_rmse(estimated[~nans], real[~nans])"
   ]
  },
  {
   "cell_type": "markdown",
   "metadata": {},
   "source": [
    "### EXERCICI 4\n",
    "\n",
    "+ Construeix dues funcions, `dist_euclid(x,y)` i `coef_pearson(x,y)`, que implementin la distància Euclidiana i el coeficient de correlació de Pearson entre dos vectors usant funcions de pandas. \n",
    "\n",
    "+ Escriu les funcions que calculin la semblança entre dos series d'un DataFrame de Pandas. S'utiltizaran per calcular les similituds entre usuaris o entre items:\n",
    "\n",
    "    + ``def sim_euclid (data_frame, row1, row2)``\n",
    "    Calcula els vectors representatius de cada fila, C1 i C2, amb les puntuacions de les columnes que estan presents en ambdós files. En el cas dels usuaris (files), això implica trobar les películes (columnes) que han puntuat tots dos.<br />Si no hi ha puntuacions en comú, retornar 0. En cas contrari, retornar ``1/(1+dist_euclid(C1, C2))``\n",
    "\n",
    "    + ``def sim_pearson (data_frame, row1, row2)``\n",
    "    Calcular els vectors representatius de cada fila, C1 i C2, amb les puntuacions de les columnes que estan presents en ambdós files.<br />Si no hi ha puntuacions en comú, retornar 0. Retornar ``coef_pearson(C1,C2)``\n",
    "    "
   ]
  },
  {
   "cell_type": "code",
   "execution_count": null,
   "metadata": {
    "collapsed": false
   },
   "outputs": [],
   "source": [
    "import math\n",
    "import numpy as np\n",
    "import pandas as pd\n",
    "\n",
    "# Returns the euclidean distance of two vectors\n",
    "def dist_euclid(x, y):\n",
    "    return np.linalg.norm(x-y)\n",
    "\n",
    "# Returns the Pearson correlation of two vectors \n",
    "def coef_pearson(x, y):\n",
    "    return np.corrcoef(x, y)[0][1]\n",
    "\n",
    "# Returns a distance-based similarity score for person1 and person2 based on euclidean distance\n",
    "def sim_euclid(data_frame, row1, row2):\n",
    "    ind = data_frame.loc[row1].dropna().index.intersection(data_frame.loc[row2].dropna().index)\n",
    "    if len(ind) == 0:\n",
    "        return 0\n",
    "    x = data_frame.loc[row1][ind]\n",
    "    y = data_frame.loc[row2][ind]\n",
    "    return 1/(1 + dist_euclid(x, y))\n",
    "\n",
    "# Returns a distance-based similarity score for person1 and person2 based on pearson distance\n",
    "def sim_pearson(data_frame, row1, row2):\n",
    "    ind = data_frame.loc[row1].dropna().index.intersection(data_frame.loc[row2].dropna().index)\n",
    "    if len(ind) == 0:\n",
    "        return 0\n",
    "    x = data_frame.loc[row1, ind]\n",
    "    y = data_frame.loc[row2, ind]\n",
    "    return coef_pearson(x, y)"
   ]
  },
  {
   "cell_type": "markdown",
   "metadata": {},
   "source": [
    "Tests de les funcions, pots realitzar modificacions prèvies a les taules (per exemple, agrupar o pivotar) per accelerar el procés"
   ]
  },
  {
   "cell_type": "code",
   "execution_count": null,
   "metadata": {
    "collapsed": false
   },
   "outputs": [],
   "source": [
    "# Execute functions\n",
    "new_data = data.pivot(\"user_id\", \"movie_id\", \"rating\")\n",
    "print sim_euclid(new_data, 1, 2)\n",
    "print sim_pearson(new_data, 1, 2)"
   ]
  },
  {
   "cell_type": "markdown",
   "metadata": {},
   "source": [
    "### EXERCICI 5\n",
    "\n",
    "+ Feu dues funcions, ``get_best_euclid(data_frame, user, n)`` i ``get_best_pearson(data_frame, user, n)``, que retornin els ``n`` usuaris més semblants segons aquestes dues mesures de similitud."
   ]
  },
  {
   "cell_type": "code",
   "execution_count": null,
   "metadata": {
    "collapsed": false
   },
   "outputs": [],
   "source": [
    "import heapq\n",
    "\n",
    "# return the N most similar users to a given user based on euclidean distance\n",
    "def get_best_euclid(data_frame, user, n):\n",
    "    return get_best_of(data_frame, user, n, sim_euclid)\n",
    "\n",
    "# return the N most similar users to a given user based on pearson correlation\n",
    "def get_best_pearson(data_frame, user, n):\n",
    "    return get_best_of(data_frame, user, n, sim_pearson)\n",
    "\n",
    "def get_best_of(data_frame, user, n, func):\n",
    "    new_data = data_frame.pivot(\"user_id\", \"movie_id\", \"rating\")\n",
    "    users = data_frame[data_frame.user_id != user][\"user_id\"].unique()\n",
    "    return heapq.nlargest(n, users, key=lambda x: func(new_data, x, user))"
   ]
  },
  {
   "cell_type": "code",
   "execution_count": null,
   "metadata": {
    "collapsed": false
   },
   "outputs": [],
   "source": [
    "# Execute functions\n",
    "# Aquestes funcions poden trigar a executar-se; feu proves primer amb una part petita de la base de dades.\n",
    "\n",
    "print get_best_euclid(data, 1, 5)\n",
    "print get_best_pearson(data, 1, 5)"
   ]
  },
  {
   "cell_type": "markdown",
   "metadata": {},
   "source": [
    "### EXERCICI 6\n",
    "\n",
    "En l'exercici 6 i 7 es desenvoluparà un sistema de recomanació basat en usuaris i en ítems, respectivament.\n",
    "\n",
    "El codi donat, que es basa en 3 classes, és la recomenada per fer-ho òptim i reaprofitar el màxim de codi, però s'acceptaran solucions que no la segueixin, sempre hi quan respectin el mètode \"estimate\" explicat més abaix i funcionin de forma correcte.\n",
    "\n",
    "#### `CollaborativeFiltering`\n",
    "\n",
    "Una classe base, comuna en els 2 recomanadors, que implementarà:\n",
    "  \n",
    "  * `__init__`: Rep com a paràmetres el dataframe (que constarà de `user_id`, `movie_id` i `rating`), la funció de semblança (Euclidiana o Pearson) que volem usar i un paràmetre `M` que indica el tamany que tindrà la matriu de similituds.\n",
    "  \n",
    "  * `precompute`: Generar per cada estimació la semblança entre 2 usuaris o items seria molt costós i faria l'algorisme molt lent, per tant, aquesta funció omplirà la taula MxM (on M es el número de usuaris o items, segons el recomanador) amb el coeficient de semblança.\n",
    "      * Nota: La taula es un DataFrame de Pandas, per tant accedirem als element fent servir l'indexat de Pandas (que correspon al id del user/movie, i no a la posició 0...i)\n",
    "  \n",
    "  * `estimate`: s'encarrega de donar la predicció, en aquest cas donat un usuari i una pel·lícula estimar el seu rating.\n",
    "    + Nota 1: Si un `user_id` o `movie_id` no es troba en el DataFrame, cal retornar \"np.NAN\"\n",
    "    + Nota 2: En el recomenador d'usuaris, s'ha d'evitar comparar `user_id` a ell mateix. De la mateixa forma, en el d'items evitarem comparar un `movie_id` amb sí mateix.\n",
    "\n",
    "#### `UserRecomender`\n",
    "\n",
    "Recomanador basat en usuaris que hereta de `CollaborativeFiltering`. Implementarà:\n",
    "\n",
    "  * `__init__`: Pot realitzar transformacions al DataFrame\n",
    "  \n",
    "#### `ItemRecomender`\n",
    "\n",
    "Recomanador basat en items que hereta de `CollaborativeFiltering`. Implementarà:\n",
    "\n",
    "  * `__init__`: Pot realitzar transformacions al DataFrame\n",
    "    "
   ]
  },
  {
   "cell_type": "code",
   "execution_count": null,
   "metadata": {
    "collapsed": false
   },
   "outputs": [],
   "source": [
    "class CollaborativeFiltering(object):\n",
    "    \"\"\" Collaborative filtering using a custom sim(u,u'). \"\"\"\n",
    "    \n",
    "    def __init__(self, data, M, similarity=sim_pearson):\n",
    "        \"\"\" Constructor \"\"\"\n",
    "        self.sim_method = similarity # Gets recommendations for a person by using a weighted average\n",
    "        self.df = data\n",
    "        self.sim = pd.DataFrame(1, index=M, columns=M)\n",
    "        \n",
    "    def precompute(self):\n",
    "        from itertools import combinations\n",
    "        \"\"\"Prepare data structures for estimation. Compute similarity matrix self.sim\"\"\"\n",
    "        for i,j in combinations(self.sim.index, 2):\n",
    "            self.sim.loc[i, j] = self.sim.loc[j, i] = self.sim_method(self.df, i, j)\n",
    "        \n",
    "    def estimate(self, row, col):\n",
    "        \"\"\" Given an row (user_id in 6, movie_id in 7) and a column (movie_id in 6, user_id in 7) \n",
    "            returns the estimated rating \"\"\"\n",
    "        if row not in self.df.index or col not in self.df.columns:\n",
    "            return np.nan\n",
    "        similarities = self.sim.loc[row]\n",
    "        def f(score, value):\n",
    "            if score < 0:\n",
    "                return (5 - value) * -score\n",
    "            return value * score\n",
    "        total = simSum = 0\n",
    "        for id_value, sim_score in similarities.iteritems():\n",
    "            if not (np.isnan(self.df.loc[id_value, col]) or np.isnan(sim_score)):\n",
    "                total += f(sim_score, self.df.loc[id_value, col])\n",
    "                simSum += np.absolute(sim_score) \n",
    "        \n",
    "        if simSum == 0:\n",
    "            return 0\n",
    "        \n",
    "        return total / simSum"
   ]
  },
  {
   "cell_type": "code",
   "execution_count": null,
   "metadata": {
    "collapsed": false
   },
   "outputs": [],
   "source": [
    "class UserRecomender(CollaborativeFiltering):\n",
    "    \"\"\" Recomender using Collaborative filtering with a User similarity (u,u'). \"\"\"\n",
    "    \n",
    "    def __init__(self, data_train, similarity=sim_pearson):\n",
    "        \"\"\" Constructor \"\"\"\n",
    "        \n",
    "        # You should do any transformation to data_train (grouping/pivot/...) here, if needed\n",
    "        transformed_data = data_train.pivot(\"user_id\", \"movie_id\", \"rating\")\n",
    "        \n",
    "        super(UserRecomender, self).__init__(transformed_data, data_train.user_id.unique(), similarity)\n",
    "\n",
    "                \n",
    "    def estimate(self, user_id, movie_id):\n",
    "        \"\"\" Given an user_id and a movie_id returns the estimated rating for such movie \"\"\"\n",
    "        return super(UserRecomender, self).estimate(user_id, movie_id)\n",
    "    \n",
    "    def get_recomendations(self, user, n):\n",
    "        movies = self.df.columns.values\n",
    "        return heapq.nlargest(n, movies, key=lambda x: self.estimate(user, x))\n",
    "        "
   ]
  },
  {
   "cell_type": "code",
   "execution_count": null,
   "metadata": {
    "collapsed": false
   },
   "outputs": [],
   "source": [
    "user_reco = UserRecomender(movielens_train, sim_pearson)\n",
    "user_reco.precompute()"
   ]
  },
  {
   "cell_type": "code",
   "execution_count": null,
   "metadata": {
    "collapsed": false
   },
   "outputs": [],
   "source": [
    "user_reco.estimate(user_id=2, movie_id=1)"
   ]
  },
  {
   "cell_type": "code",
   "execution_count": null,
   "metadata": {
    "collapsed": false,
    "scrolled": false
   },
   "outputs": [],
   "source": [
    "evaluate(user_reco.estimate, movielens_test)"
   ]
  },
  {
   "cell_type": "markdown",
   "metadata": {},
   "source": [
    "### EXERCICI 7\n",
    "\n",
    "+ Desenvolupa un sistema de recomanació col·laboratiu basat en ítems. Si la classe `CollaborativeFiltering` s'ha fet prou genèrica, tan sols caldrà fer petites modificacions a `__init__`, del contrari, podeu fer les modificacions que cregueu necessàries."
   ]
  },
  {
   "cell_type": "code",
   "execution_count": null,
   "metadata": {
    "collapsed": false
   },
   "outputs": [],
   "source": [
    "class ItemRecomender(CollaborativeFiltering):\n",
    "    \"\"\" Recomender using Collaborative filtering with a Item similarity (i,i'). \"\"\"\n",
    "    \n",
    "    def __init__(self,data_train, similarity=sim_pearson):\n",
    "        \"\"\" Constructor \"\"\"\n",
    "        \n",
    "        # You should do any transformation to data_train (grouping/pivot/...) here, if needed\n",
    "        transformed_data = data_train.pivot(\"movie_id\", \"user_id\", \"rating\")\n",
    "        \n",
    "        super(ItemRecomender, self).__init__(transformed_data, data_train.movie_id.unique(), similarity)\n",
    "\n",
    "            \n",
    "    def estimate(self, user_id, movie_id):\n",
    "        \"\"\" Given an user_id and a movie_id returns the estimated rating for such movie \"\"\"\n",
    "        return super(ItemRecomender, self).estimate(movie_id, user_id)\n",
    "    \n",
    "    def get_recomendations(self, user, n):\n",
    "        movies = self.df.index.values\n",
    "        return heapq.nlargest(n, movies, key=lambda x: self.estimate(x, user))\n",
    "        "
   ]
  },
  {
   "cell_type": "code",
   "execution_count": null,
   "metadata": {
    "collapsed": false
   },
   "outputs": [],
   "source": [
    "item_reco = ItemRecomender(movielens_train, sim_pearson)\n",
    "item_reco.precompute()"
   ]
  },
  {
   "cell_type": "code",
   "execution_count": null,
   "metadata": {
    "collapsed": false
   },
   "outputs": [],
   "source": [
    "item_reco.estimate(user_id=2, movie_id=1)"
   ]
  },
  {
   "cell_type": "code",
   "execution_count": null,
   "metadata": {
    "collapsed": false
   },
   "outputs": [],
   "source": [
    "evaluate(item_reco.estimate, movielens_test)"
   ]
  },
  {
   "cell_type": "markdown",
   "metadata": {},
   "source": [
    "### EXERCICI 8\n",
    "\n",
    "* Feu un nou mètode `get_recomendations(user_id, n)` que retorni les n pel·lícules recomenades per a l'usuari user_id. De nou, és recomenable fer-ho a la clase pare, `CollaborativeFiltering`, cridant-la des dels fills de forma semblant a com fa `estimate`.\n",
    "\n",
    "* Executeu la funció en els dos recomenadors "
   ]
  },
  {
   "cell_type": "code",
   "execution_count": null,
   "metadata": {
    "collapsed": false
   },
   "outputs": [],
   "source": [
    "movieIds_user = user_reco.get_recomendations(1, 5)\n",
    "recommendedMovies = [movielens_train.loc[movielens_train['movie_id']==x, 'title'].iloc[0] for x in movieIds_user]\n",
    "print recommendedMovies"
   ]
  },
  {
   "cell_type": "code",
   "execution_count": null,
   "metadata": {
    "collapsed": false
   },
   "outputs": [],
   "source": [
    "movieIds_item = item_reco.get_recomendations(1, 5)\n",
    "recommendedMovies = [movielens_train.loc[movielens_train['movie_id']==x, 'title'].iloc[0] for x in movieIds_item]\n",
    "print recommendedMovies"
   ]
  }
 ],
 "metadata": {
  "anaconda-cloud": {},
  "kernelspec": {
   "display_name": "Python [Root]",
   "language": "python",
   "name": "Python [Root]"
  },
  "language_info": {
   "codemirror_mode": {
    "name": "ipython",
    "version": 2
   },
   "file_extension": ".py",
   "mimetype": "text/x-python",
   "name": "python",
   "nbconvert_exporter": "python",
   "pygments_lexer": "ipython2",
   "version": "2.7.12"
  }
 },
 "nbformat": 4,
 "nbformat_minor": 0
}
